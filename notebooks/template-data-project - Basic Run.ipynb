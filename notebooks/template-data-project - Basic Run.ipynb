{
 "cells": [
  {
   "cell_type": "markdown",
   "metadata": {
    "id": "goKOhQ94MVgS"
   },
   "source": [
    "# TemplateDataProject - Basic Run"
   ]
  },
  {
   "cell_type": "markdown",
   "metadata": {
    "id": "OQqg0KyWu7yL"
   },
   "source": [
    "# 0. Initialization"
   ]
  },
  {
   "cell_type": "code",
   "execution_count": null,
   "metadata": {
    "colab": {
     "base_uri": "https://localhost:8080/"
    },
    "executionInfo": {
     "elapsed": 4538,
     "status": "ok",
     "timestamp": 1643065948961,
     "user": {
      "displayName": "Angus McLean",
      "photoUrl": "https://lh3.googleusercontent.com/a/default-user=s64",
      "userId": "09768900211859317702"
     },
     "user_tz": 300
    },
    "id": "z0sToZKWd02U",
    "outputId": "f04cca81-f5c6-42a7-aadf-7789dfb6b3e3"
   },
   "outputs": [],
   "source": [
    "#@title Connect to gDrive & Load Files\n",
    "if 'google.colab' in str(get_ipython()):\n",
    "    print('Running on CoLab')\n",
    "    PROJECT_FOLDER=\"/content/drive/MyDrive/workspace/template-data-project\" #@param {\"type\":\"string\"}\n",
    "    #@markdown - Connect to gDrive Folder\n",
    "    ## Load this for local development version of library.. Loads from GoogleDrive (changes persist)\n",
    "    from google.colab import drive, widgets, data_table; \n",
    "    drive.mount('/content/drive');\n",
    "    %cd \"$PROJECT_FOLDER\"\n",
    "\n",
    "    #@markdown - Install Requirements\n",
    "    !pip install -qr requirements.txt\n",
    "\n",
    "else:\n",
    "    %cd /app\n",
    "    print('Not running on CoLab')\n",
    "\n",
    "    \n",
    "#@markdown - Load .env\n",
    "import re, os\n",
    "lines = open('.env.yaml', 'r').read().split('\\n')\n",
    "for l in lines:\n",
    "  segs = re.split(': *', l, 1)\n",
    "  os.environ[segs[0]] = segs[1]\n",
    "\n",
    "#@markdown - Import Utils .py FIles\n",
    "import sys, os; from importlib import reload; sys.path.append(os.path.abspath(\"./src\"))\n",
    "from utils import notebook_helpers; reload(notebook_helpers)\n",
    "!pwd"
   ]
  },
  {
   "cell_type": "code",
   "execution_count": null,
   "metadata": {
    "executionInfo": {
     "elapsed": 6,
     "status": "ok",
     "timestamp": 1643065948961,
     "user": {
      "displayName": "Angus McLean",
      "photoUrl": "https://lh3.googleusercontent.com/a/default-user=s64",
      "userId": "09768900211859317702"
     },
     "user_tz": 300
    },
    "id": "xT3KVQ3aM8G1"
   },
   "outputs": [],
   "source": [
    "#@title Imports\n",
    "import pandas as pd\n",
    "import plotly.express as px"
   ]
  },
  {
   "cell_type": "markdown",
   "metadata": {
    "id": "ug9qlnmD5jQi"
   },
   "source": [
    "# 1 Fetch and Parse Data\n",
    "\n",
    "src/data/load_data.py\n"
   ]
  },
  {
   "cell_type": "code",
   "execution_count": null,
   "metadata": {
    "executionInfo": {
     "elapsed": 390,
     "status": "ok",
     "timestamp": 1643065949346,
     "user": {
      "displayName": "Angus McLean",
      "photoUrl": "https://lh3.googleusercontent.com/a/default-user=s64",
      "userId": "09768900211859317702"
     },
     "user_tz": 300
    },
    "id": "1A7rGVpsM5M2"
   },
   "outputs": [],
   "source": [
    "from data import load_data; reload(load_data)\n",
    "df = load_data.load_data()"
   ]
  },
  {
   "cell_type": "markdown",
   "metadata": {
    "id": "wrGpViNuNn7h",
    "jp-MarkdownHeadingCollapsed": true,
    "tags": []
   },
   "source": [
    "# 2. Explore Data"
   ]
  },
  {
   "cell_type": "code",
   "execution_count": null,
   "metadata": {
    "colab": {
     "base_uri": "https://localhost:8080/",
     "height": 0
    },
    "executionInfo": {
     "elapsed": 10,
     "status": "ok",
     "timestamp": 1643065949349,
     "user": {
      "displayName": "Angus McLean",
      "photoUrl": "https://lh3.googleusercontent.com/a/default-user=s64",
      "userId": "09768900211859317702"
     },
     "user_tz": 300
    },
    "id": "0zZwkzoROF9p",
    "outputId": "14eb664d-6621-4933-8c12-ad0ba93205dc"
   },
   "outputs": [],
   "source": [
    "df"
   ]
  },
  {
   "cell_type": "code",
   "execution_count": null,
   "metadata": {
    "colab": {
     "base_uri": "https://localhost:8080/",
     "height": 0
    },
    "executionInfo": {
     "elapsed": 470,
     "status": "ok",
     "timestamp": 1643065949811,
     "user": {
      "displayName": "Angus McLean",
      "photoUrl": "https://lh3.googleusercontent.com/a/default-user=s64",
      "userId": "09768900211859317702"
     },
     "user_tz": 300
    },
    "id": "0wIbepcVN4VK",
    "outputId": "9356f043-3692-46d0-fe24-5b7d5c755ba6"
   },
   "outputs": [],
   "source": [
    "px.parallel_coordinates(df, color='species_id')"
   ]
  },
  {
   "cell_type": "code",
   "execution_count": null,
   "metadata": {
    "colab": {
     "base_uri": "https://localhost:8080/",
     "height": 0
    },
    "executionInfo": {
     "elapsed": 6,
     "status": "ok",
     "timestamp": 1643065949811,
     "user": {
      "displayName": "Angus McLean",
      "photoUrl": "https://lh3.googleusercontent.com/a/default-user=s64",
      "userId": "09768900211859317702"
     },
     "user_tz": 300
    },
    "id": "jmYvaUFAODIk",
    "outputId": "2328446c-263e-4c7c-f84a-d6e5fc135850"
   },
   "outputs": [],
   "source": [
    "px.scatter_3d(df, 'sepal_length','petal_length','sepal_width',color='species')"
   ]
  },
  {
   "cell_type": "markdown",
   "metadata": {
    "id": "x_LV04YzNYZH"
   },
   "source": [
    "# 3. Train Model\n",
    "src/models/train_model.py"
   ]
  },
  {
   "cell_type": "code",
   "execution_count": null,
   "metadata": {
    "colab": {
     "base_uri": "https://localhost:8080/"
    },
    "executionInfo": {
     "elapsed": 1976,
     "status": "ok",
     "timestamp": 1643065951783,
     "user": {
      "displayName": "Angus McLean",
      "photoUrl": "https://lh3.googleusercontent.com/a/default-user=s64",
      "userId": "09768900211859317702"
     },
     "user_tz": 300
    },
    "id": "GTGsyEwT6fj-",
    "outputId": "425e37e7-a285-4f48-f67e-def71880f630"
   },
   "outputs": [],
   "source": [
    "from models import train_model; reload(train_model)\n",
    "inputCols = ['sepal_length', 'sepal_width', 'petal_length', 'petal_width']\n",
    "targetCol = ['species_id']\n",
    "\n",
    "model = train_model.trainModelForDf(df, inputCols, targetCol)"
   ]
  },
  {
   "cell_type": "markdown",
   "metadata": {
    "id": "rePKOKy1Nb6p"
   },
   "source": [
    "# 4. Test & Visualize Results"
   ]
  },
  {
   "cell_type": "code",
   "execution_count": null,
   "metadata": {
    "colab": {
     "base_uri": "https://localhost:8080/",
     "height": 144
    },
    "executionInfo": {
     "elapsed": 433,
     "status": "ok",
     "timestamp": 1643065952209,
     "user": {
      "displayName": "Angus McLean",
      "photoUrl": "https://lh3.googleusercontent.com/a/default-user=s64",
      "userId": "09768900211859317702"
     },
     "user_tz": 300
    },
    "id": "zXMWAQxuOPo3",
    "outputId": "8dbd1160-3c43-4e12-ad89-64625d67851d"
   },
   "outputs": [],
   "source": [
    "from models import predict_model; reload(predict_model)\n",
    "from sklearn.metrics import confusion_matrix\n",
    "\n",
    "## Create Test Set\n",
    "df_test = df.sample(15)\n",
    "\n",
    "## Predict\n",
    "y_pred = predict_model.predict(model, df_test[inputCols])\n",
    "\n",
    "## Display Results\n",
    "pd.DataFrame(confusion_matrix(df_test[targetCol], y_pred))"
   ]
  },
  {
   "cell_type": "markdown",
   "metadata": {
    "id": "8S7k8UPZNejR"
   },
   "source": [
    "# 5. Interactive App"
   ]
  },
  {
   "cell_type": "code",
   "execution_count": null,
   "metadata": {
    "colab": {
     "base_uri": "https://localhost:8080/",
     "height": 34
    },
    "executionInfo": {
     "elapsed": 3660,
     "status": "ok",
     "timestamp": 1643065955865,
     "user": {
      "displayName": "Angus McLean",
      "photoUrl": "https://lh3.googleusercontent.com/a/default-user=s64",
      "userId": "09768900211859317702"
     },
     "user_tz": 300
    },
    "id": "2jq1YaNDekgJ",
    "outputId": "396d5f66-fae8-4a20-9907-6b895d101d9f"
   },
   "outputs": [],
   "source": [
    "#@title Install jupyter_dash\n",
    "!pip install -q jupyter-dash\n",
    "import jupyter_dash\n",
    "reload(jupyter_dash)"
   ]
  },
  {
   "cell_type": "code",
   "execution_count": null,
   "metadata": {
    "id": "GMCYX4KR3Q63"
   },
   "outputs": [],
   "source": [
    "import json\n",
    "from dash import dcc, html\n",
    "# from dash.dependencies import Input, Output, State\n",
    "\n",
    "\n",
    "from src.dash.apps import dash_global\n",
    "\n",
    "app = jupyter_dash.JupyterDash(__name__)\n",
    "\n",
    "app.layout = html.Div([\n",
    "    html.H1('Modeling', style={\"textAlign\": \"center\"}),\n",
    "])\n",
    "\n",
    "if __name__ == '__main__':\n",
    "    app.run_server(mode='inline',\n",
    "                    port=8501, \n",
    "                    host=\"0.0.0.0\",\n",
    "                    debug=True, **{'width': '1200px', 'height': '800px'}\n",
    "      # assets_external_path=\"https://stackpath.bootstrapcdn.com/bootstrap/4.4.1/css/bootstrap.min.css\"\n",
    "    )"
   ]
  },
  {
   "cell_type": "markdown",
   "metadata": {
    "id": "h6_Bonk3MxRJ"
   },
   "source": [
    "## External URL\n",
    "Recommend Opening a Terminal (bottom-left) and run the following commends\n",
    "- `ngrok http 8051 --log=stdout > ngrok.log &`\n",
    "- `cat ngrok.log`\n",
    "- `python src/dash/index.py`"
   ]
  },
  {
   "cell_type": "code",
   "execution_count": null,
   "metadata": {
    "cellView": "form",
    "colab": {
     "base_uri": "https://localhost:8080/"
    },
    "executionInfo": {
     "elapsed": 197,
     "status": "ok",
     "timestamp": 1643072969119,
     "user": {
      "displayName": "Angus McLean",
      "photoUrl": "https://lh3.googleusercontent.com/a/default-user=s64",
      "userId": "09768900211859317702"
     },
     "user_tz": 300
    },
    "id": "lcdeV059MwLF",
    "outputId": "3e330bc3-0e1c-4690-fecd-96912b560dd9"
   },
   "outputs": [],
   "source": [
    "%%script false\n",
    "#@title Skip.. Initialize NGROK\n",
    "NGROK_AUTH=\"22ORETTuVHdmPUy8y4Vj4inqlQN_84tmp9jkzhKCJJ3kWGdK1\" #@param\n",
    "if 'NGROK_URL' not in globals():\n",
    "  print('Loading ngrok..')\n",
    "  !pip install pyngrok\n",
    "  !ngrok authtoken NGROK_AUTH\n",
    "  from pyngrok import ngrok\n",
    "  NGROK_URL = ngrok.connect(addr=8051)\n",
    "else : \n",
    "  print('Using Existing ngrok url..')\n",
    "\n",
    "print(NGROK_URL)"
   ]
  },
  {
   "cell_type": "code",
   "execution_count": null,
   "metadata": {
    "cellView": "form",
    "id": "ybffnHTvlHVz"
   },
   "outputs": [],
   "source": [
    "# %%script false\n",
    "#@title Skip.. Multi Page Dash App\n",
    "from src.dash.apps import data_overview, modeling\n",
    "\n",
    "app3 = jupyter_dash.JupyterDash(__name__)\n",
    "\n",
    "app3.layout = html.Div([\n",
    "    dcc.Location(id='url', refresh=False),\n",
    "    html.Div([\n",
    "        dcc.Link('Data Overview | ', href='/apps/data_overview'),\n",
    "        dcc.Link('Modeling', href='/apps/modeling'),\n",
    "    ], className=\"row\"),\n",
    "    html.Div(id='page-content2', children=[])\n",
    "])\n",
    "\n",
    "\n",
    "@app3.callback(Output('page-content2', 'children'),\n",
    "              [Input('url', 'pathname')])\n",
    "def display_page(pathname):\n",
    "    if pathname == '/apps/data_overview':\n",
    "        return data_overview.layout\n",
    "    if pathname == '/apps/modeling':\n",
    "        return modeling.layout\n",
    "    else:\n",
    "        return \"404 Page Error! Please choose a link\"\n",
    "\n",
    "app3.run_server(mode='external',port=8051, debug=True, **{'width': '200px', 'height': '200px'})\n",
    "# app3._terminate_server_for_port('localhost', port=8051)"
   ]
  }
 ],
 "metadata": {
  "colab": {
   "collapsed_sections": [
    "wrGpViNuNn7h"
   ],
   "name": "template-data-project - Basic Run.ipynb",
   "provenance": []
  },
  "kernelspec": {
   "display_name": "Python 3 (ipykernel)",
   "language": "python",
   "name": "python3"
  },
  "language_info": {
   "codemirror_mode": {
    "name": "ipython",
    "version": 3
   },
   "file_extension": ".py",
   "mimetype": "text/x-python",
   "name": "python",
   "nbconvert_exporter": "python",
   "pygments_lexer": "ipython3",
   "version": "3.8.9"
  }
 },
 "nbformat": 4,
 "nbformat_minor": 4
}
